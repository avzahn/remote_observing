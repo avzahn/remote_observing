{
 "cells": [
  {
   "cell_type": "code",
   "execution_count": 434,
   "metadata": {
    "collapsed": false
   },
   "outputs": [],
   "source": [
    "from time import gmtime\n",
    "from datetime import tzinfo\n",
    "from copy import copy\n",
    "import datetime\n",
    "import pytz\n",
    "import re\n",
    "\n",
    "utcnow = datetime.datetime.utcnow"
   ]
  },
  {
   "cell_type": "code",
   "execution_count": 320,
   "metadata": {
    "collapsed": false
   },
   "outputs": [
    {
     "name": "stdout",
     "output_type": "stream",
     "text": [
      "makeschedule_v1.py         scheduler.py     test.pickle\r\n",
      "ObservingAvailability.csv  sim_schedule.py  Untitled.ipynb\r\n"
     ]
    }
   ],
   "source": [
    "ls"
   ]
  },
  {
   "cell_type": "code",
   "execution_count": 418,
   "metadata": {
    "collapsed": false
   },
   "outputs": [],
   "source": [
    "def classify(line):\n",
    "    \n",
    "    days =  [\"Wed\",\"Thu\",\"Fri\",\"Sat\",\"Sun\",\"Mon\",\"Tue\"]\n",
    "    \n",
    "    l = line.split(\",\")\n",
    "    \n",
    "    # test for month line\n",
    "    pattern = \"(January|February|March|April|May|June|July|August|September|November|December)\"\n",
    "    pattern += \"\\s[0-9][0-9][0-9][0-9]$\"\n",
    "    for entry in l:\n",
    "        if re.match(pattern,entry):\n",
    "            return \"month\"\n",
    "    \n",
    "    # test for the day line\n",
    "    pattern = \"(Wed|Thu|Fri|Sat|Sun|Mon|Tue)\\s[0-3][0-9]$\"\n",
    "    for entry in l:\n",
    "        if re.match(pattern, entry) != None:\n",
    "            return \"day\"\n",
    "            \n",
    "    # test for the shift time line\n",
    "    pattern = \"[0-9]:[0-5][0-9]\\s(AM|PM)$\"\n",
    "    for entry in l:\n",
    "        if re.match(pattern, entry) != None:\n",
    "            return \"shift\"\n",
    "        \n",
    "    # test for an availability line\n",
    "    pattern = \"(OK|\\(OK\\))$\"\n",
    "    for entry in l:\n",
    "        if re.match(pattern,entry) != None:\n",
    "            return \"availability\"\n",
    "        \n",
    "    return \"useless\"\n",
    "\n",
    "def gen_shifts(dayline, shiftline, local_start, dst):\n",
    "    \n",
    "    fmt = \"%a %I:%M %p\"\n",
    "    \n",
    "    d = dayline.split(\",\")\n",
    "    s = shiftline.split(\",\")\n",
    "    \n",
    "    combined = []\n",
    "    \n",
    "    if d[0] == \"\":\n",
    "        del d[0]\n",
    "    if s[0] == \"\":\n",
    "        del s[0]\n",
    "    \n",
    "    d_last = d[0][0:3]\n",
    "    for i in range(len(d)):\n",
    "        if len(d[i]) > 0:\n",
    "            d_last = d[i][0:3]    \n",
    "        abbr = d_last\n",
    "        \n",
    "        combined.append(abbr + \" \" + s[i])\n",
    "        \n",
    "    shifts = []\n",
    "    \n",
    "    for i in range(len(combined)):\n",
    "        \n",
    "        start = combined[i]\n",
    "        \n",
    "        if i == len(combined) - 1:\n",
    "            end = combined[0]\n",
    "        else:\n",
    "            end = combined[i+1]\n",
    "        \n",
    "        start = datetime.date.strptime(start,fmt)\n",
    "        end = datetime.date.strptime(end,fmt)\n",
    "        \n",
    "        start.year, start.month = year, month\n",
    "        \n",
    "        \n",
    "    \n",
    "    \n",
    "    \n",
    "        \n",
    "        \n",
    "            \n",
    "            \n",
    "            \n",
    "        \n",
    "            \n",
    "    \n",
    "            "
   ]
  },
  {
   "cell_type": "code",
   "execution_count": 401,
   "metadata": {
    "collapsed": false
   },
   "outputs": [],
   "source": [
    "dayline = \",Wed 19,,,,,,Thu 20,,,,,,Fri 21,,,,,,Sat 22,,,,,,Sun 23,,,,,,Mon 24,,,,,,Tue 25,,,,,\"\n",
    "shiftline = \",1:00 AM,5:00 AM,9:00 AM,1:00 PM,5:00 PM,9:00 PM,1:00 AM,5:00 AM,9:00 AM,1:00 PM,5:00 PM,9:00 PM,1:00 AM,5:00 AM,9:00 AM,1:00 PM,5:00 PM,9:00 PM,1:00 AM,5:00 AM,9:00 AM,1:00 PM,5:00 PM,9:00 PM,1:00 AM,5:00 AM,9:00 AM,1:00 PM,5:00 PM,9:00 PM,1:00 AM,5:00 AM,9:00 AM,1:00 PM,5:00 PM,9:00 PM,1:00 AM,5:00 AM,9:00 AM,1:00 PM,5:00 PM,9:00 PM\"\n",
    "c = gen_shifts(dayline,shiftline)"
   ]
  },
  {
   "cell_type": "code",
   "execution_count": 402,
   "metadata": {
    "collapsed": false
   },
   "outputs": [
    {
     "name": "stdout",
     "output_type": "stream",
     "text": [
      "['Wed 1:00 AM', 'Wed 5:00 AM', 'Wed 9:00 AM', 'Wed 1:00 PM', 'Wed 5:00 PM', 'Wed 9:00 PM', 'Thu 1:00 AM', 'Thu 5:00 AM', 'Thu 9:00 AM', 'Thu 1:00 PM', 'Thu 5:00 PM', 'Thu 9:00 PM', 'Fri 1:00 AM', 'Fri 5:00 AM', 'Fri 9:00 AM', 'Fri 1:00 PM', 'Fri 5:00 PM', 'Fri 9:00 PM', 'Sat 1:00 AM', 'Sat 5:00 AM', 'Sat 9:00 AM', 'Sat 1:00 PM', 'Sat 5:00 PM', 'Sat 9:00 PM', 'Sun 1:00 AM', 'Sun 5:00 AM', 'Sun 9:00 AM', 'Sun 1:00 PM', 'Sun 5:00 PM', 'Sun 9:00 PM', 'Mon 1:00 AM', 'Mon 5:00 AM', 'Mon 9:00 AM', 'Mon 1:00 PM', 'Mon 5:00 PM', 'Mon 9:00 PM', 'Tue 1:00 AM', 'Tue 5:00 AM', 'Tue 9:00 AM', 'Tue 1:00 PM', 'Tue 5:00 PM', 'Tue 9:00 PM']\n"
     ]
    }
   ],
   "source": [
    "print c"
   ]
  },
  {
   "cell_type": "code",
   "execution_count": 373,
   "metadata": {
    "collapsed": false,
    "scrolled": true
   },
   "outputs": [
    {
     "name": "stdout",
     "output_type": "stream",
     "text": [
      "1 useless\n",
      "2 useless\n",
      "3 useless\n",
      "4 useless\n",
      "5 day\n",
      "6 shift\n",
      "7 availability\n",
      "8 availability\n",
      "9 availability\n",
      "10 availability\n",
      "11 availability\n",
      "12 availability\n",
      "13 availability\n",
      "14 availability\n",
      "15 availability\n",
      "16 availability\n",
      "17 availability\n",
      "18 availability\n",
      "19 availability\n",
      "20 availability\n",
      "21 availability\n",
      "22 availability\n",
      "23 availability\n",
      "24 availability\n",
      "25 availability\n",
      "26 availability\n",
      "27 availability\n",
      "28 availability\n",
      "29 availability\n",
      "30 availability\n",
      "31 availability\n",
      "32 availability\n",
      "33 availability\n",
      "34 availability\n",
      "35 availability\n",
      "36 availability\n",
      "37 availability\n",
      "38 availability\n",
      "39 availability\n",
      "40 availability\n",
      "41 availability\n",
      "42 useless\n"
     ]
    }
   ],
   "source": [
    "with open(\"ObservingAvailability.csv\",\"r\") as f:\n",
    "    i = 1\n",
    "    for line in f:\n",
    "        print i,classify(line)\n",
    "        i += 1\n"
   ]
  },
  {
   "cell_type": "code",
   "execution_count": 413,
   "metadata": {
    "collapsed": false
   },
   "outputs": [],
   "source": [
    "fmt = \"%a %I:%M %p\"\n",
    "d = datetime.datetime.strptime(\"Wed 9:00 AM\", fmt)"
   ]
  },
  {
   "cell_type": "code",
   "execution_count": 417,
   "metadata": {
    "collapsed": false
   },
   "outputs": [
    {
     "data": {
      "text/plain": [
       "1"
      ]
     },
     "execution_count": 417,
     "metadata": {},
     "output_type": "execute_result"
    }
   ],
   "source": [
    "d.month"
   ]
  },
  {
   "cell_type": "code",
   "execution_count": 424,
   "metadata": {
    "collapsed": false
   },
   "outputs": [],
   "source": [
    "pattern = \"[0-9][0-9][0-9][0-9]$\"\n",
    "re.match(pattern,\"2000a\")"
   ]
  },
  {
   "cell_type": "code",
   "execution_count": 435,
   "metadata": {
    "collapsed": false
   },
   "outputs": [],
   "source": [
    "a,b,c = utcnow(),utcnow(),utcnow()"
   ]
  },
  {
   "cell_type": "code",
   "execution_count": 437,
   "metadata": {
    "collapsed": false
   },
   "outputs": [
    {
     "data": {
      "text/plain": [
       "datetime.datetime(2015, 4, 11, 1, 34, 54, 399678)"
      ]
     },
     "execution_count": 437,
     "metadata": {},
     "output_type": "execute_result"
    }
   ],
   "source": [
    "a+(b-c)"
   ]
  },
  {
   "cell_type": "code",
   "execution_count": null,
   "metadata": {
    "collapsed": true
   },
   "outputs": [],
   "source": []
  }
 ],
 "metadata": {
  "kernelspec": {
   "display_name": "Python 2",
   "language": "python",
   "name": "python2"
  },
  "language_info": {
   "codemirror_mode": {
    "name": "ipython",
    "version": 2
   },
   "file_extension": ".py",
   "mimetype": "text/x-python",
   "name": "python",
   "nbconvert_exporter": "python",
   "pygments_lexer": "ipython2",
   "version": "2.7.9"
  }
 },
 "nbformat": 4,
 "nbformat_minor": 0
}
