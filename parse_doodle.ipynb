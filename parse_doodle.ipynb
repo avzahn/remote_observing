{
 "cells": [
  {
   "cell_type": "code",
   "execution_count": 1,
   "metadata": {
    "collapsed": false
   },
   "outputs": [],
   "source": [
    "from time import gmtime\n",
    "from datetime import tzinfo\n",
    "from scheduler import *\n",
    "from copy import copy\n",
    "import datetime\n",
    "import pytz\n",
    "import re\n",
    "\n",
    "\n",
    "def gen_naive2():\n",
    "    fmt = \"%Y %b %d %a %I:%M %p %Z\"\n",
    "    start,en= [],[]\n",
    "    \n",
    "    start.append(datetime.datetime.strptime(\"2015 Apr 15 Wed 1:00 AM PDT\",fmt))\n",
    "    en.append(datetime.datetime.strptime(   \"2015 Apr 15 Wed 5:00 AM PDT\",fmt))\n",
    "    \n",
    "    dt = datetime.timedelta(0,4*3600)\n",
    "    \n",
    "    for i in range(1,42):\n",
    "        \n",
    "        start.append(start[i-1] +dt)\n",
    "        en.append(en[i-1]+dt)\n",
    "        \n",
    "    return start,en\n",
    "\n",
    "def classify(line):\n",
    "    \n",
    "    days =  [\"Wed\",\"Thu\",\"Fri\",\"Sat\",\"Sun\",\"Mon\",\"Tue\"]\n",
    "    \n",
    "    l = line.split(\",\")\n",
    "    \n",
    "    # test for month line\n",
    "    pattern = \"(January|February|March|April|May|June|July|August|September|November|December)\"\n",
    "    pattern += \"\\s[0-9][0-9][0-9][0-9]$\"\n",
    "    for entry in l:\n",
    "        if re.match(pattern,entry):\n",
    "            return \"month\"\n",
    "    \n",
    "    # test for the day line\n",
    "    pattern = \"(Wed|Thu|Fri|Sat|Sun|Mon|Tue)\\s[0-3][0-9]$\"\n",
    "    for entry in l:\n",
    "        if re.match(pattern, entry) != None:\n",
    "            return \"day\"\n",
    "            \n",
    "    # test for the shift time line\n",
    "    pattern = \"[0-9]:[0-5][0-9]\\s(AM|PM)$\"\n",
    "    for entry in l:\n",
    "        if re.match(pattern, entry) != None:\n",
    "            return \"shift\"\n",
    "        \n",
    "    # test for an availability line\n",
    "    pattern = \"(OK|\\(OK\\))$\"\n",
    "    for entry in l:\n",
    "        if re.match(pattern,entry) != None:\n",
    "            return \"availability\"\n",
    "        \n",
    "    return \"useless\"\n",
    "\n",
    "\n",
    "def get_prefix(year,month,wday,wday0, mday0):\n",
    "    \"\"\"\n",
    "    todo: make this not break every month\n",
    "    \"\"\"\n",
    "    \n",
    "    n = int(day0)\n",
    "    for i in range(7):\n",
    "        if n%7 == int(day):\n",
    "            break\n",
    "        \n",
    "    \n",
    "    return \"%s %s %s \" % (year, month, day)\n",
    "    \n",
    "\n",
    "def naive_gen_shifts(year,month,wday0,mday0,dayline, shiftline):\n",
    "    \"\"\"\n",
    "    fmt = \"%Y %b %d %a %I:%M %p\"\n",
    "    \n",
    "    d = dayline.split(\",\")\n",
    "    s = shiftline.split(\",\")\n",
    "    \n",
    "    combined = []\n",
    "    \n",
    "    if d[0] == \"\":\n",
    "        del d[0]\n",
    "    if s[0] == \"\":\n",
    "        del s[0]\n",
    "    \n",
    "    d_last = d[0][0:3]\n",
    "    for i in range(len(d)):\n",
    "        if len(d[i]) > 0:\n",
    "            if re.match(\"(Mon|Tue|Wed|Thu|Fri|Sat|Sun)\",d[i][0:3]):\n",
    "                d_last = d[i][0:3]    \n",
    "        abbr = d_last\n",
    "        \n",
    "        combined.append(abbr + \" \" + s[i])    \n",
    "    start,end = [],[]\n",
    "    \n",
    "    for i in range(len(combined)):\n",
    "        \n",
    "        _start = combined[i]\n",
    "        \n",
    "        if i == len(combined) - 1:\n",
    "            _end = combined[0]\n",
    "        else:\n",
    "            _end = combined[i+1]\n",
    "            \n",
    "        st_prefix = get_prefix(year,month, _start[0:3], wday0,mday0)\n",
    "        en_prefix = get_prefix(year,month, _end[0:3], wday0,mday0)\n",
    "        \n",
    "        start.append(datetime.datetime.strptime(st_prefix+_start.rstrip(),fmt))\n",
    "        end.append(datetime.datetime.strptime(en_prefix+end.rstrip(),fmt))\n",
    "\n",
    "    return start[0:-1], end[0:-1]\n",
    "    \"\"\"\n",
    "    \n",
    "    fmt = \"%Y %b %d %a %I:%M %p %Z\"\n",
    "    \n",
    "    start,en = [],[]\n",
    "    \n",
    "    start.append(datetime.datetime.strptime(\"2015 Apr 19 Sun 1:00 AM PDT\",fmt))\n",
    "    en.append(datetime.datetime.strptime(   \"2015 Apr 19 Sun 5:00 AM PDT\",fmt))\n",
    "    \n",
    "    start.append(datetime.datetime.strptime(\"2015 Apr 19 Sun 5:00 AM PDT\",fmt))\n",
    "    en.append(datetime.datetime.strptime(   \"2015 Apr 19 Sun 9:00 AM PDT\",fmt))\n",
    "    \n",
    "    start.append(datetime.datetime.strptime(\"2015 Apr 19 Sun 9:00 AM PDT\",fmt))\n",
    "    en.append(datetime.datetime.strptime(   \"2015 Apr 19 Sun 1:00 PM PDT\",fmt))\n",
    "    \n",
    "    start.append(datetime.datetime.strptime(\"2015 Apr 19 Sun 1:00 PM PDT\",fmt))\n",
    "    en.append(datetime.datetime.strptime(   \"2015 Apr 19 Sun 5:00 PM PDT\",fmt))\n",
    "    \n",
    "    start.append(datetime.datetime.strptime(\"2015 Apr 19 Sun 5:00 PM PDT\",fmt))\n",
    "    en.append(datetime.datetime.strptime(   \"2015 Apr 19 Sun 9:00 PM PDT\",fmt))\n",
    "    \n",
    "    start.append(datetime.datetime.strptime(\"2015 Apr 19 Sun 9:00 PM PDT\",fmt))\n",
    "    en.append(datetime.datetime.strptime(   \"2015 Apr 20 Mon 1:00 AM PDT\",fmt))\n",
    "    \n",
    "    \n",
    "    \n",
    "    start.append(datetime.datetime.strptime(\"2015 Apr 20 Mon 1:00 AM PDT\",fmt))\n",
    "    en.append(datetime.datetime.strptime(   \"2015 Apr 20 Mon 5:00 AM PDT\",fmt))\n",
    "    \n",
    "    start.append(datetime.datetime.strptime(\"2015 Apr 20 Mon 5:00 AM PDT\",fmt))\n",
    "    en.append(datetime.datetime.strptime(   \"2015 Apr 20 Mon 9:00 AM PDT\",fmt))\n",
    "    \n",
    "    start.append(datetime.datetime.strptime(\"2015 Apr 20 Mon 9:00 AM PDT\",fmt))\n",
    "    en.append(datetime.datetime.strptime(   \"2015 Apr 20 Mon 1:00 PM PDT\",fmt))\n",
    "    \n",
    "    start.append(datetime.datetime.strptime(\"2015 Apr 20 Mon 1:00 PM PDT\",fmt))\n",
    "    en.append(datetime.datetime.strptime(   \"2015 Apr 20 Mon 5:00 PM PDT\",fmt))\n",
    "    \n",
    "    start.append(datetime.datetime.strptime(\"2015 Apr 20 Mon 5:00 PM PDT\",fmt))\n",
    "    en.append(datetime.datetime.strptime(   \"2015 Apr 20 Mon 9:00 PM PDT\",fmt))\n",
    "    \n",
    "    start.append(datetime.datetime.strptime(\"2015 Apr 20 Mon 9:00 PM PDT\",fmt))\n",
    "    en.append(datetime.datetime.strptime(   \"2015 Apr 21 Tue 1:00 AM PDT\",fmt))\n",
    "    \n",
    "    \n",
    "    \n",
    "    start.append(datetime.datetime.strptime(\"2015 Apr 21 Tue 1:00 AM PDT\",fmt))\n",
    "    en.append(datetime.datetime.strptime(   \"2015 Apr 21 Tue 5:00 AM PDT\",fmt))\n",
    "    \n",
    "    start.append(datetime.datetime.strptime(\"2015 Apr 21 Tue 5:00 AM PDT\",fmt))\n",
    "    en.append(datetime.datetime.strptime(   \"2015 Apr 21 Tue 9:00 AM PDT\",fmt))\n",
    "    \n",
    "    start.append(datetime.datetime.strptime(\"2015 Apr 21 Tue 9:00 AM PDT\",fmt))\n",
    "    en.append(datetime.datetime.strptime(   \"2015 Apr 21 Tue 1:00 PM PDT\",fmt))\n",
    "    \n",
    "    start.append(datetime.datetime.strptime(\"2015 Apr 21 Tue 1:00 PM PDT\",fmt))\n",
    "    en.append(datetime.datetime.strptime(   \"2015 Apr 21 Tue 5:00 PM PDT\",fmt))\n",
    "    \n",
    "    start.append(datetime.datetime.strptime(\"2015 Apr 21 Tue 5:00 PM PDT\",fmt))\n",
    "    en.append(datetime.datetime.strptime(   \"2015 Apr 21 Tue 9:00 PM PDT\",fmt))\n",
    "    \n",
    "    start.append(datetime.datetime.strptime(\"2015 Apr 21 Tue 9:00 PM PDT\",fmt))\n",
    "    en.append(datetime.datetime.strptime(   \"2015 Apr 22 Wed 1:00 AM PDT\",fmt))\n",
    "    \n",
    "    \n",
    "    \n",
    "    start.append(datetime.datetime.strptime(\"2015 Apr 22 Wed 1:00 AM PDT\",fmt))\n",
    "    en.append(datetime.datetime.strptime(   \"2015 Apr 22 Wed 5:00 AM PDT\",fmt))\n",
    "    \n",
    "    start.append(datetime.datetime.strptime(\"2015 Apr 22 Wed 5:00 AM PDT\",fmt))\n",
    "    en.append(datetime.datetime.strptime(   \"2015 Apr 22 Wed 9:00 AM PDT\",fmt))\n",
    "    \n",
    "    start.append(datetime.datetime.strptime(\"2015 Apr 22 Wed 9:00 AM PDT\",fmt))\n",
    "    en.append(datetime.datetime.strptime(   \"2015 Apr 22 Wed 1:00 PM PDT\",fmt))\n",
    "    \n",
    "    start.append(datetime.datetime.strptime(\"2015 Apr 22 Wed 1:00 PM PDT\",fmt))\n",
    "    en.append(datetime.datetime.strptime(   \"2015 Apr 22 Wed 5:00 PM PDT\",fmt))\n",
    "    \n",
    "    start.append(datetime.datetime.strptime(\"2015 Apr 22 Wed 5:00 PM PDT\",fmt))\n",
    "    en.append(datetime.datetime.strptime(   \"2015 Apr 22 Wed 9:00 PM PDT\",fmt))\n",
    "    \n",
    "    start.append(datetime.datetime.strptime(\"2015 Apr 22 Wed 9:00 PM PDT\",fmt))\n",
    "    en.append(datetime.datetime.strptime(   \"2015 Apr 23 Thu 1:00 AM PDT\",fmt))\n",
    "    \n",
    "    \n",
    "    start.append(datetime.datetime.strptime(\"2015 Apr 23 Thu 1:00 AM PDT\",fmt))\n",
    "    en.append(datetime.datetime.strptime(   \"2015 Apr 23 Thu 5:00 AM PDT\",fmt))\n",
    "    \n",
    "    start.append(datetime.datetime.strptime(\"2015 Apr 23 Thu 5:00 AM PDT\",fmt))\n",
    "    en.append(datetime.datetime.strptime(   \"2015 Apr 23 Thu 9:00 AM PDT\",fmt))\n",
    "    \n",
    "    start.append(datetime.datetime.strptime(\"2015 Apr 23 Thu 9:00 AM PDT\",fmt))\n",
    "    en.append(datetime.datetime.strptime(   \"2015 Apr 23 Thu 1:00 PM PDT\",fmt))\n",
    "    \n",
    "    start.append(datetime.datetime.strptime(\"2015 Apr 23 Thu 1:00 PM PDT\",fmt))\n",
    "    en.append(datetime.datetime.strptime(   \"2015 Apr 23 Thu 5:00 PM PDT\",fmt))\n",
    "    \n",
    "    start.append(datetime.datetime.strptime(\"2015 Apr 23 Thu 5:00 PM PDT\",fmt))\n",
    "    en.append(datetime.datetime.strptime(   \"2015 Apr 23 Thu 9:00 PM PDT\",fmt))\n",
    "    \n",
    "    start.append(datetime.datetime.strptime(\"2015 Apr 23 Thu 9:00 PM PDT\",fmt))\n",
    "    en.append(datetime.datetime.strptime(   \"2015 Apr 24 Fri 1:00 AM PDT\",fmt))\n",
    "    \n",
    "    \n",
    "    \n",
    "    start.append(datetime.datetime.strptime(\"2015 Apr 24 Fri 1:00 AM PDT\",fmt))\n",
    "    en.append(datetime.datetime.strptime(\"2015 Apr 24 Fri 5:00 AM PDT\",fmt))\n",
    "    \n",
    "    start.append(datetime.datetime.strptime(\"2015 Apr 24 Fri 5:00 AM PDT\",fmt))\n",
    "    en.append(datetime.datetime.strptime(\"2015 Apr 24 Fri 9:00 AM PDT\",fmt))\n",
    "    \n",
    "    start.append(datetime.datetime.strptime(\"2015 Apr 24 Fri 9:00 AM PDT\",fmt))\n",
    "    en.append(datetime.datetime.strptime(\"2015 Apr 24 Fri 1:00 PM PDT\",fmt))\n",
    "    \n",
    "    start.append(datetime.datetime.strptime(\"2015 Apr 24 Fri 1:00 PM PDT\",fmt))\n",
    "    en.append(datetime.datetime.strptime(\"2015 Apr 24 Fri 5:00 PM PDT\",fmt))\n",
    "    \n",
    "    start.append(datetime.datetime.strptime(\"2015 Apr 24 Fri 5:00 PM PDT\",fmt))\n",
    "    en.append(datetime.datetime.strptime(\"2015 Apr 24 Fri 9:00 PM PDT\",fmt))\n",
    "    \n",
    "    start.append(datetime.datetime.strptime(\"2015 Apr 24 Fri 9:00 PM PDT\",fmt))\n",
    "    en.append(datetime.datetime.strptime(\"2015 Apr 25 Sat 1:00 AM PDT\",fmt))\n",
    "    \n",
    "    \n",
    "    \n",
    "    start.append(datetime.datetime.strptime(\"2015 Apr 25 Sat 1:00 AM PDT\",fmt))\n",
    "    en.append(datetime.datetime.strptime(\"2015 Apr 25 Sat 5:00 AM PDT\",fmt))\n",
    "    \n",
    "    start.append(datetime.datetime.strptime(\"2015 Apr 25 Sat 5:00 AM PDT\",fmt))\n",
    "    en.append(datetime.datetime.strptime(\"2015 Apr 25 Sat 9:00 AM PDT\",fmt))\n",
    "    \n",
    "    start.append(datetime.datetime.strptime(\"2015 Apr 25 Sat 9:00 AM PDT\",fmt))\n",
    "    en.append(datetime.datetime.strptime(\"2015 Apr 25 Sat 1:00 PM PDT\",fmt))\n",
    "    \n",
    "    start.append(datetime.datetime.strptime(\"2015 Apr 25 Sat 1:00 PM PDT\",fmt))\n",
    "    en.append(datetime.datetime.strptime(\"2015 Apr 25 Sat 5:00 PM PDT\",fmt))\n",
    "    \n",
    "    start.append(datetime.datetime.strptime(\"2015 Apr 25 Sat 5:00 PM PDT\",fmt))\n",
    "    en.append(datetime.datetime.strptime(\"2015 Apr 25 Sat 9:00 PM PDT\",fmt))\n",
    "    \n",
    "    start.append(datetime.datetime.strptime(\"2015 Apr 25 Sat 9:00 PM PDT\",fmt))\n",
    "    en.append(datetime.datetime.strptime(\"2015 Apr 26 Sun 1:00 AM PDT\",fmt))\n",
    "    \n",
    "    return start,en\n",
    "\n",
    "    \n",
    "def localize(times):\n",
    "    \"\"\"\n",
    "    As a temporary measure, just assume the doodle times are all PDT\n",
    "    \"\"\"\n",
    "    \n",
    "    tz = pytz.timezone(\"US/Pacific\")\n",
    "    return [tz.localize(time, is_dst = True) for time in times]\n",
    "        \n",
    "        \n",
    "def gen_shifts(first,startpoints,endpoints):\n",
    "    \"\"\"\n",
    "    first: index of the startpoint and endpoint of the first shift to be scheduled\n",
    "    startpoints: correctly localized day and hour of the start of all the shifts to be scheduled\n",
    "    \"\"\"    \n",
    "    \n",
    "    utcstart = startpoints[first].astimezone(pytz.UTC)\n",
    "    \n",
    "    utc_startpoints = [utcstart]\n",
    "    utc_endpoints = [utcstart + (endpoints[first]-startpoints[first])]\n",
    "    \n",
    "    l = len(startpoints)\n",
    "    for i in range(l):\n",
    "        nxt = (i+first + 1) % l\n",
    "        lst = (i+first) % l\n",
    "            \n",
    "        utc_startpoints.append(utc_startpoints[i]+(startpoints[nxt]-startpoints[lst]))\n",
    "        utc_endpoints.append(utc_endpoints[i]+(endpoints[nxt]-endpoints[lst]))\n",
    "        \n",
    "    return [shift_t(start,end) for start,end in zip(utc_startpoints[:-1], utc_endpoints[:-1])]\n",
    "\n",
    "def update_availability(obs, splitline, shifts, first, locale, dst):\n",
    "    \"\"\"\n",
    "    splitline should be availabilityline.split(\",\")[1:]\n",
    "    \"\"\"\n",
    "    l = len(shifts)\n",
    "    \n",
    "    for i,shift in enumerate(shifts):\n",
    "        \n",
    "        doodle_index = (i + first) % l\n",
    "\n",
    "        a = splitline[doodle_index]\n",
    "        if a == \"OK\":\n",
    "            if is_weekend(shift,locale,dst):\n",
    "                karma = obs.weekend_karma\n",
    "            else:\n",
    "                karma = obs.weekday_karma\n",
    "        if a == \"(OK)\":\n",
    "            karma = obs.maybe_karma\n",
    "        if a == \"\":\n",
    "            karma = 0\n",
    "        \n",
    "        obs.availability[shift] = karma\n",
    "\n",
    "def new_observer(line, shifts, first, locale, dst):\n",
    "    \n",
    "    s = line.split(\",\")\n",
    "    obs = observer()\n",
    "    \n",
    "    obs.name = s[0]\n",
    "    \n",
    "    s = s[1:]\n",
    "    \n",
    "    update_availability(obs,s,shifts,first,locale,dst)\n",
    "    \n",
    "    return obs\n",
    "        \n",
    "def new_schedule(fname,first,year,month,wday0,mday0,locale,dst):\n",
    "    \n",
    "    availability_lines = []\n",
    "    \n",
    "    with open(fname,\"r\") as f:\n",
    "        for line in f:\n",
    "            dsc = classify(line)\n",
    "            if dsc == \"shift\":\n",
    "                shiftline = line\n",
    "            if dsc == \"day\":\n",
    "                dayline = line\n",
    "            if dsc == \"availability\":\n",
    "                availability_lines.append(line)\n",
    "                \n",
    "    #naive_start, naive_end = naive_gen_shifts(year,month,wday0,mday0,dayline, shiftline)\n",
    "    naive_start, naive_end = gen_naive2()\n",
    "    start,end = localize(naive_start), localize(naive_end)\n",
    "    \n",
    "    shifts = gen_shifts(first, start, end)\n",
    "    \n",
    "    observers = []\n",
    "    \n",
    "    for line in availability_lines:\n",
    "        \n",
    "        observers.append(new_observer(line,shifts,first,locale,dst))\n",
    "    \n",
    "    \n",
    "    # fix year\n",
    "    \n",
    "    \n",
    "    return schedule(shifts,observers,locale,dst)\n",
    "            "
   ]
  },
  {
   "cell_type": "code",
   "execution_count": 2,
   "metadata": {
    "collapsed": false,
    "scrolled": true
   },
   "outputs": [
    {
     "name": "stdout",
     "output_type": "stream",
     "text": [
      "Stephen Feeney\n",
      "Julien\n",
      "Davide\n",
      "Oliver\n",
      "Kavon\n",
      "GIUSEPPE\n",
      "Nathan Miller\n",
      "Colin Ross\n"
     ]
    }
   ],
   "source": [
    "dst = True\n",
    "first = 0\n",
    "locale = pytz.timezone(\"US/Pacific\")\n",
    "sch = new_schedule(\"ObservingAvailability.csv\",first,1,2,3,4,locale,dst)\n",
    "sch.schedule()"
   ]
  },
  {
   "cell_type": "code",
   "execution_count": 3,
   "metadata": {
    "collapsed": false
   },
   "outputs": [
    {
     "name": "stdout",
     "output_type": "stream",
     "text": [
      "Stephen Feeney  ::   Sat 18 01:00 AM-05:00 AM PDT || Fri 17 01:00 AM-05:00 AM PDT || \n",
      "Masashi Hazumi  ::   Sun 19 09:00 PM-Mon 20 01:00 AM PDT || \n",
      "Nate Stebor  ::   Sat 18 09:00 AM-01:00 PM PDT || \n",
      "Jon Kaufman  ::   Tue 21 09:00 PM-Wed 22 01:00 AM PDT || \n",
      "Julien  ::   Sun 19 05:00 AM-09:00 AM PDT || Tue 21 01:00 AM-05:00 AM PDT || \n",
      "Darcy  ::   Sun 19 09:00 AM-01:00 PM PDT || \n",
      "Neil  ::   Sun 19 01:00 PM-05:00 PM PDT || \n",
      "Colin Ross  ::   Thu 16 05:00 AM-09:00 AM PDT || Wed 15 05:00 AM-09:00 AM PDT || \n",
      "Charlie  ::   Tue 21 09:00 AM-01:00 PM PDT || \n",
      "Nathan Miller  ::   Sat 18 05:00 AM-09:00 AM PDT || Tue 21 05:00 AM-09:00 AM PDT || \n",
      "Praween  ::   Tue 21 01:00 PM-05:00 PM PDT || \n",
      "Tucker  ::   Sat 18 05:00 PM-09:00 PM PDT || \n",
      "Kaori  ::   Sat 18 01:00 PM-05:00 PM PDT || \n",
      "David Leon  ::   Fri 17 01:00 PM-05:00 PM PDT || \n",
      "Ari  ::   Sun 19 05:00 PM-09:00 PM PDT || \n",
      "Davide  ::   Fri 17 05:00 AM-09:00 AM PDT || Thu 16 01:00 AM-05:00 AM PDT || \n",
      "Greg Jaehnig  ::   Fri 17 05:00 PM-09:00 PM PDT || \n",
      "GIUSEPPE  ::   Wed 15 01:00 PM-05:00 PM PDT || Mon 20 01:00 AM-05:00 AM PDT || \n",
      "Giulio  ::   Wed 15 01:00 AM-05:00 AM PDT || \n",
      "Kam  ::   Thu 16 09:00 AM-01:00 PM PDT || \n",
      "Fred  ::   Tue 21 05:00 PM-09:00 PM PDT || \n",
      "Kaja  ::   Wed 15 09:00 AM-01:00 PM PDT || \n",
      "Ian  ::   Mon 20 01:00 PM-05:00 PM PDT || \n",
      "Logan  ::   Wed 15 05:00 PM-09:00 PM PDT || \n",
      "Marty  ::   Mon 20 05:00 PM-09:00 PM PDT || \n",
      "Anne  ::   Sun 19 01:00 AM-05:00 AM PDT || \n",
      "Christian  ::   Thu 16 05:00 PM-09:00 PM PDT || \n",
      "Oliver  ::   Sat 18 09:00 PM-Sun 19 01:00 AM PDT || Mon 20 09:00 PM-Tue 21 01:00 AM PDT || \n",
      "Toki  ::   Thu 16 01:00 PM-05:00 PM PDT || \n",
      "Kavon  ::   Thu 16 09:00 PM-Fri 17 01:00 AM PDT || Wed 15 09:00 PM-Thu 16 01:00 AM PDT || \n",
      "Yuji Chinone  ::   \n",
      "Josquin  ::   Fri 17 09:00 AM-01:00 PM PDT || \n",
      "Yasuto  ::   Mon 20 09:00 AM-01:00 PM PDT || \n",
      "Ziggy  ::   Mon 20 05:00 AM-09:00 AM PDT || \n",
      "Alex  ::   Fri 17 09:00 PM-Sat 18 01:00 AM PDT || \n",
      "\n",
      "----unfillable shifts:----\n",
      "\n",
      "\n"
     ]
    }
   ],
   "source": [
    "print sch.text()"
   ]
  },
  {
   "cell_type": "code",
   "execution_count": 5,
   "metadata": {
    "collapsed": false
   },
   "outputs": [
    {
     "data": {
      "text/plain": [
       "[]"
      ]
     },
     "execution_count": 5,
     "metadata": {},
     "output_type": "execute_result"
    }
   ],
   "source": [
    "sch.weekend_shifts"
   ]
  },
  {
   "cell_type": "code",
   "execution_count": 5,
   "metadata": {
    "collapsed": false
   },
   "outputs": [
    {
     "data": {
      "text/plain": [
       "[]"
      ]
     },
     "execution_count": 5,
     "metadata": {},
     "output_type": "execute_result"
    }
   ],
   "source": [
    "sch.unfilled_shifts"
   ]
  },
  {
   "cell_type": "code",
   "execution_count": 12,
   "metadata": {
    "collapsed": true
   },
   "outputs": [],
   "source": []
  },
  {
   "cell_type": "code",
   "execution_count": 5,
   "metadata": {
    "collapsed": false
   },
   "outputs": [
    {
     "data": {
      "text/plain": [
       "<bound method schedule.shift_to_string of {<scheduler.shift_t object at 0x7f6d795fc950>: <scheduler.observer object at 0x7f6d795b5390>, <scheduler.shift_t object at 0x7f6d795fcf90>: <scheduler.observer object at 0x7f6d795b5190>, <scheduler.shift_t object at 0x7f6d795fcb10>: <scheduler.observer object at 0x7f6d795fc290>, <scheduler.shift_t object at 0x7f6d795fcc90>: <scheduler.observer object at 0x7f6d795b5ed0>, <scheduler.shift_t object at 0x7f6d795fc110>: <scheduler.observer object at 0x7f6d795fc310>, <scheduler.shift_t object at 0x7f6d795fcad0>: <scheduler.observer object at 0x7f6d795b51d0>, <scheduler.shift_t object at 0x7f6d795fca10>: <scheduler.observer object at 0x7f6d795b5290>, <scheduler.shift_t object at 0x7f6d795fcfd0>: <scheduler.observer object at 0x7f6d795b5210>, <scheduler.shift_t object at 0x7f6d795fca90>: <scheduler.observer object at 0x7f6d795b50d0>, <scheduler.shift_t object at 0x7f6d795fc090>: <scheduler.observer object at 0x7f6d795b5350>, <scheduler.shift_t object at 0x7f6d795fc6d0>: <scheduler.observer object at 0x7f6d795b53d0>, <scheduler.shift_t object at 0x7f6d795fc710>: <scheduler.observer object at 0x7f6d795b5550>, <scheduler.shift_t object at 0x7f6d795fc9d0>: <scheduler.observer object at 0x7f6d795fc190>, <scheduler.shift_t object at 0x7f6d795fc7d0>: <scheduler.observer object at 0x7f6d795b5150>, <scheduler.shift_t object at 0x7f6d795fce90>: <scheduler.observer object at 0x7f6d795b5590>, <scheduler.shift_t object at 0x7f6d795fcc10>: <scheduler.observer object at 0x7f6d795b55d0>, <scheduler.shift_t object at 0x7f6d795fcd50>: <scheduler.observer object at 0x7f6d795fc210>, <scheduler.shift_t object at 0x7f6d795fc810>: <scheduler.observer object at 0x7f6d795b5310>, <scheduler.shift_t object at 0x7f6d795fcc50>: <scheduler.observer object at 0x7f6d795fc390>, <scheduler.shift_t object at 0x7f6d795fc690>: <scheduler.observer object at 0x7f6d795b5410>, <scheduler.shift_t object at 0x7f6d795fcb50>: <scheduler.observer object at 0x7f6d795b5090>, <scheduler.shift_t object at 0x7f6d795fce50>: <scheduler.observer object at 0x7f6d795b5510>, <scheduler.shift_t object at 0x7f6d795fc990>: <scheduler.observer object at 0x7f6d795b5790>, <scheduler.shift_t object at 0x7f6d795fc890>: <scheduler.observer object at 0x7f6d795b5450>, <scheduler.shift_t object at 0x7f6d795fccd0>: <scheduler.observer object at 0x7f6d795b5050>, <scheduler.shift_t object at 0x7f6d795fc8d0>: <scheduler.observer object at 0x7f6d795b5610>, <scheduler.shift_t object at 0x7f6d795fc610>: <scheduler.observer object at 0x7f6d795b52d0>, <scheduler.shift_t object at 0x7f6d795fc910>: <scheduler.observer object at 0x7f6d795fc190>, <scheduler.shift_t object at 0x7f6d795fcf10>: <scheduler.observer object at 0x7f6d795fc390>, <scheduler.shift_t object at 0x7f6d795fc850>: <scheduler.observer object at 0x7f6d795b5690>, <scheduler.shift_t object at 0x7f6d795fc790>: <scheduler.observer object at 0x7f6d795b5290>, <scheduler.shift_t object at 0x7f6d795fcb90>: <scheduler.observer object at 0x7f6d795b5250>, <scheduler.shift_t object at 0x7f6d795fca50>: <scheduler.observer object at 0x7f6d795b54d0>, <scheduler.shift_t object at 0x7f6d795fced0>: <scheduler.observer object at 0x7f6d795b5650>, <scheduler.shift_t object at 0x7f6d795fc750>: <scheduler.observer object at 0x7f6d795b5450>, <scheduler.shift_t object at 0x7f6d795fcd90>: <scheduler.observer object at 0x7f6d795b53d0>, <scheduler.shift_t object at 0x7f6d795fcd10>: <scheduler.observer object at 0x7f6d795b5110>, <scheduler.shift_t object at 0x7f6d795fcdd0>: <scheduler.observer object at 0x7f6d795b5750>, <scheduler.shift_t object at 0x7f6d795fcf50>: <scheduler.observer object at 0x7f6d795b51d0>, <scheduler.shift_t object at 0x7f6d795fc650>: <scheduler.observer object at 0x7f6d795b5150>, <scheduler.shift_t object at 0x7f6d795fcbd0>: <scheduler.observer object at 0x7f6d795b5650>, <scheduler.shift_t object at 0x7f6d795fce10>: <scheduler.observer object at 0x7f6d795b56d0>}>"
      ]
     },
     "execution_count": 5,
     "metadata": {},
     "output_type": "execute_result"
    }
   ],
   "source": [
    "getattr(sch,'shift_to_string')"
   ]
  },
  {
   "cell_type": "code",
   "execution_count": 9,
   "metadata": {
    "collapsed": true
   },
   "outputs": [],
   "source": [
    "a = range(10)\n",
    "b = copy(a)\n",
    "b[-1] = 99"
   ]
  },
  {
   "cell_type": "code",
   "execution_count": 10,
   "metadata": {
    "collapsed": false
   },
   "outputs": [
    {
     "data": {
      "text/plain": [
       "[0, 1, 2, 3, 4, 5, 6, 7, 8, 9]"
      ]
     },
     "execution_count": 10,
     "metadata": {},
     "output_type": "execute_result"
    }
   ],
   "source": [
    "a"
   ]
  },
  {
   "cell_type": "code",
   "execution_count": 12,
   "metadata": {
    "collapsed": false
   },
   "outputs": [
    {
     "data": {
      "text/plain": [
       "[0, 1, 2, 3, 4, 5, 6, 7, 8, 99]"
      ]
     },
     "execution_count": 12,
     "metadata": {},
     "output_type": "execute_result"
    }
   ],
   "source": [
    "b"
   ]
  },
  {
   "cell_type": "code",
   "execution_count": 13,
   "metadata": {
    "collapsed": false
   },
   "outputs": [
    {
     "data": {
      "text/plain": [
       "[0]"
      ]
     },
     "execution_count": 13,
     "metadata": {},
     "output_type": "execute_result"
    }
   ],
   "source": [
    "range(1)"
   ]
  },
  {
   "cell_type": "code",
   "execution_count": 14,
   "metadata": {
    "collapsed": false
   },
   "outputs": [
    {
     "data": {
      "text/plain": [
       "0"
      ]
     },
     "execution_count": 14,
     "metadata": {},
     "output_type": "execute_result"
    }
   ],
   "source": [
    "0%3"
   ]
  },
  {
   "cell_type": "code",
   "execution_count": null,
   "metadata": {
    "collapsed": true
   },
   "outputs": [],
   "source": []
  }
 ],
 "metadata": {
  "kernelspec": {
   "display_name": "Python 2",
   "language": "python",
   "name": "python2"
  },
  "language_info": {
   "codemirror_mode": {
    "name": "ipython",
    "version": 2
   },
   "file_extension": ".py",
   "mimetype": "text/x-python",
   "name": "python",
   "nbconvert_exporter": "python",
   "pygments_lexer": "ipython2",
   "version": "2.7.9"
  }
 },
 "nbformat": 4,
 "nbformat_minor": 0
}
